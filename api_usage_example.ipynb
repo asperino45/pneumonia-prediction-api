{
 "cells": [
  {
   "cell_type": "code",
   "execution_count": 14,
   "metadata": {},
   "outputs": [
    {
     "output_type": "stream",
     "name": "stdout",
     "text": "{'classification': 'Normal', 'prediction': 'Pneumonia: 0.000058024, Normal: 0.999941945'}\n"
    }
   ],
   "source": [
    "import requests\n",
    "\n",
    "# Método GET do HTTP com query parameter url no caminho /predict\n",
    "res = requests.get('http://127.0.0.1:5000/predict?url=https://prod-images-static.radiopaedia.org/images/1436778/7c47ea1fb9a8510e765ef510d36012_jumbo.jpeg')\n",
    "prediction = None\n",
    "if res.status_code is 200:\n",
    "    prediction = res.json()\n",
    "else:\n",
    "    print(f'Não foi possível acessar o server por erro http com código {res.status_code}.\\r\\n{res.json()}')\n",
    "if prediction is not None:\n",
    "    print(prediction)\n"
   ]
  },
  {
   "cell_type": "code",
   "execution_count": 29,
   "metadata": {},
   "outputs": [
    {
     "output_type": "execute_result",
     "data": {
      "text/plain": "{'classification': 'Normal',\n 'prediction': 'Pneumonia: 0.000058024, Normal: 0.999941945'}"
     },
     "metadata": {},
     "execution_count": 29
    }
   ],
   "source": [
    "# Método POST do HTTP com JSON contendo parâmetro url no caminho /predict\n",
    "res = requests.post('http://127.0.0.1:5000/predict', json={'url': 'https://prod-images-static.radiopaedia.org/images/1436778/7c47ea1fb9a8510e765ef510d36012_jumbo.jpeg'})\n",
    "if res.status_code == 200:\n",
    "    prediction = res.json()\n",
    "else:\n",
    "    print(f'Não foi possível acessar o server por erro http com código {res.status_code}.')\n",
    "prediction"
   ]
  },
  {
   "cell_type": "code",
   "execution_count": 33,
   "metadata": {},
   "outputs": [
    {
     "output_type": "execute_result",
     "data": {
      "text/plain": "{'classification': 'Pneumonia',\n 'prediction': 'Pneumonia: 0.993267417, Normal: 0.006732622'}"
     },
     "metadata": {},
     "execution_count": 33
    }
   ],
   "source": [
    "# Método POST do HTTP com JSON contendo parâmetro url no caminho /predict\n",
    "file = open('example.jpg', 'rb')\n",
    "res = requests.post('http://127.0.0.1:5000/predict/upload', files={'file': file})\n",
    "if res.status_code == 200:\n",
    "    prediction = res.json()\n",
    "else:\n",
    "    print(f'Não foi possível acessar o server por erro http com código {res.status_code}.')\n",
    "file.close()\n",
    "prediction"
   ]
  }
 ],
 "metadata": {
  "language_info": {
   "codemirror_mode": {
    "name": "ipython",
    "version": 3
   },
   "file_extension": ".py",
   "mimetype": "text/x-python",
   "name": "python",
   "nbconvert_exporter": "python",
   "pygments_lexer": "ipython3",
   "version": "3.7.7-final"
  },
  "orig_nbformat": 2,
  "kernelspec": {
   "name": "python37764bitpneumoniaapicleanconda971454973a4d4c958c675a1996292588",
   "display_name": "Python 3.7.7 64-bit ('pneumonia_api_clean': conda)"
  }
 },
 "nbformat": 4,
 "nbformat_minor": 2
}